{
 "cells": [
  {
   "cell_type": "code",
   "execution_count": 1,
   "metadata": {},
   "outputs": [
    {
     "data": {
      "text/html": [
       "<style>\n",
       ".output_wrapper, .output {\n",
       "    height:auto !important;\n",
       "    max-height:1000px;  /* your desired max-height here */\n",
       "}\n",
       ".output_scroll {\n",
       "    box-shadow:none !important;\n",
       "    webkit-box-shadow:none !important;\n",
       "}\n",
       "</style>"
      ],
      "text/plain": [
       "<IPython.core.display.HTML object>"
      ]
     },
     "metadata": {},
     "output_type": "display_data"
    }
   ],
   "source": [
    "%%html\n",
    "<style>\n",
    ".output_wrapper, .output {\n",
    "    height:auto !important;\n",
    "    max-height:1000px;  /* your desired max-height here */\n",
    "}\n",
    ".output_scroll {\n",
    "    box-shadow:none !important;\n",
    "    webkit-box-shadow:none !important;\n",
    "}\n",
    "</style>"
   ]
  },
  {
   "cell_type": "code",
   "execution_count": 2,
   "metadata": {
    "scrolled": true
   },
   "outputs": [
    {
     "data": {
      "text/html": [
       "<style>.container { width:85% !important; }</style>"
      ],
      "text/plain": [
       "<IPython.core.display.HTML object>"
      ]
     },
     "metadata": {},
     "output_type": "display_data"
    }
   ],
   "source": [
    "from IPython.core.display import display, HTML\n",
    "display(HTML(\"<style>.container { width:85% !important; }</style>\"))"
   ]
  },
  {
   "cell_type": "code",
   "execution_count": 6,
   "metadata": {},
   "outputs": [],
   "source": [
    "import math\n",
    "import qgrid\n",
    "import numpy as np\n",
    "import pandas as pd\n",
    "from scipy import stats\n",
    "from datetime import datetime as dt\n",
    "import numpy.polynomial.polynomial as poly\n",
    "from ipywidgets import interact, interactive, fixed, interact_manual, Button, Layout\n",
    "from IPython.display import Markdown, display\n",
    "from IPython.display import display, HTML\n",
    "from matplotlib import pyplot as plt\n",
    "import ipywidgets as widgets\n",
    "\n",
    "\n",
    "DF = pd.read_csv(\"https://drive.google.com/uc?id=1GtlL7gm9BnQihLuqHkbYcx_Hr1KYd2cO\") # 2001-2017 multi-year weather data 4th st\n",
    "\n",
    "DF[\"date\"] = pd.to_datetime(DF[\"date\"])\n",
    "DF = DF.set_index(DF[\"date\"])\n",
    "DF[\"avgt.C\"] = (DF[\"mint.C\"] + DF[\"maxt.C\"]) / 2\n",
    "DF[\"radn.MJ/m2\"] = DF[\"radn.W/m2\"] * 0.0864\n",
    "DF[\"delta\"] = 4098 * (0.6106 * np.exp((17.27 * DF[\"avgt.C\"])/(DF[\"avgt.C\"] + 237.3))) / ((DF[\"avgt.C\"] + 237.3)**2)\n",
    "elevation = 992 # high plians of texas in meters\n",
    "P = 101.3 * (((293 - (0.0065 * elevation)) / 293) ** 5.26)\n",
    "gamma = 0.000665 * P\n",
    "DF[\"delta.term\"] = DF[\"delta\"] / (DF[\"delta\"] + (gamma * (1 + 0.34 * DF[\"wind.2m.m/s\"])))\n",
    "DF[\"psi.term\"] = gamma / (DF[\"delta\"] + (gamma * (1 + 0.34 * DF[\"wind.2m.m/s\"])))\n",
    "DF[\"temp.term\"] = (900 / (DF[\"avgt.C\"] + 237)) * DF[\"wind.2m.m/s\"]\n",
    "DF[\"max.sat.vap\"] = 0.6108 * np.exp((17.27 * DF[\"maxt.C\"]) / (DF[\"maxt.C\"] + 237.3)) # maximum\n",
    "DF[\"min.sat.vap\"] = 0.6108 * np.exp((17.27 * DF[\"mint.C\"]) / (DF[\"mint.C\"] + 237.3)) # minimum\n",
    "DF[\"mean.sat.vap\"] = (DF[\"min.sat.vap\"] + DF[\"max.sat.vap\"]) / 2\n",
    "DF[\"actual.vap\"] = ((DF[\"min.sat.vap\"] * (DF[\"max.RH.%\"] / 100)) + (DF[\"max.sat.vap\"] * (DF[\"min.RH.%\"] / 100))) / 2\n",
    "DF[\"earth.sun.rel.dis\"] = 1 + (0.033 * np.cos(((2 * math.pi)/365) * DF[\"day\"]))\n",
    "DF[\"solar.decl\"] = 0.409 * np.sin((((2 * math.pi)/365) * DF[\"day\"]) - 1.39)\n",
    "lat_in_rad = (math.pi / 180) * (33.5947684)\n",
    "DF[\"sunset_angle\"] = np.arccos(-math.tan(lat_in_rad) * np.tan(DF[\"solar.decl\"]))\n",
    "aa = DF[\"sunset_angle\"]*np.sin(lat_in_rad)*np.sin(DF[\"solar.decl\"])\n",
    "bb = np.cos(lat_in_rad)*np.cos(DF[\"solar.decl\"])*np.sin(DF[\"sunset_angle\"])\n",
    "DF[\"extraT_rad\"] = (((24*60)/math.pi)*0.0820*DF[\"earth.sun.rel.dis\"])*(aa + bb)\n",
    "DF[\"clr_sky_rad\"] = (0.75 + (2e-5)*elevation) * DF[\"extraT_rad\"]\n",
    "albedo = 0.23\n",
    "DF[\"net.rad.MJ/m2*day\"] = (1 - 0.23) * DF[\"radn.MJ/m2\"]\n",
    "sb_const = 4.903e-9\n",
    "DF[\"sb_flux\"] = ((DF[\"maxt.C\"]+273.16)**4 + (DF[\"mint.C\"]+273.16)**4)/2\n",
    "DF[\"outLW_rad\"] = sb_const * (DF[\"sb_flux\"] * (0.34-(0.14*np.sqrt(DF[\"actual.vap\"])))*(1.35*(DF[\"radn.MJ/m2\"]/DF[\"clr_sky_rad\"]) - 0.35))\n",
    "DF[\"total.net.rad\"] = DF[\"net.rad.MJ/m2*day\"] - DF[\"outLW_rad\"]\n",
    "DF[\"total.net.rad.mm\"] = DF[\"total.net.rad\"] * 0.408\n",
    "DF[\"ET_rad\"] = DF[\"delta.term\"] * DF[\"total.net.rad.mm\"]\n",
    "DF[\"ET_wind\"] = DF[\"psi.term\"]*DF[\"temp.term\"]*(DF[\"mean.sat.vap\"] - DF[\"actual.vap\"])\n",
    "DF[\"ETo\"] = DF[\"ET_rad\"] + DF[\"ET_wind\"]\n",
    "DF[\"num_idx\"] = range(0,len(DF[\"date\"]),1)"
   ]
  },
  {
   "cell_type": "code",
   "execution_count": 7,
   "metadata": {},
   "outputs": [
    {
     "data": {
      "application/vnd.jupyter.widget-view+json": {
       "model_id": "f44583e603ad487596cf7a4b5ea822a4",
       "version_major": 2,
       "version_minor": 0
      },
      "text/plain": [
       "HBox(children=(DatePicker(value=datetime.datetime(2008, 1, 1, 0, 0), description='Start Date: '), DatePicker(v…"
      ]
     },
     "metadata": {},
     "output_type": "display_data"
    },
    {
     "data": {
      "application/vnd.jupyter.widget-view+json": {
       "model_id": "f8a10927fb704057b1d39020335fdbef",
       "version_major": 2,
       "version_minor": 0
      },
      "text/plain": [
       "Output()"
      ]
     },
     "metadata": {},
     "output_type": "display_data"
    }
   ],
   "source": [
    "%matplotlib inline\n",
    "\n",
    "def plot_two_var_regress(x, y):\n",
    "\n",
    "    d = {\"x\":x,\"y\":y}\n",
    "    data_in = pd.DataFrame(d)\n",
    "    slope, intercept, r_value, p_value, std_err = stats.linregress(data_in[\"x\"], data_in[\"y\"])\n",
    "\n",
    "    plt.figure(figsize=(22,8))\n",
    "    plt.plot(data_in[\"x\"], data_in[\"y\"], \"go\", label = \"x vs y\")\n",
    "    plt.plot(data_in[\"x\"], intercept + slope*data_in[\"x\"], 'r', label='fitted line')\n",
    "    plt.legend(prop={'size':12})\n",
    "    plt.xlabel(str(x.name))\n",
    "    plt.ylabel(str(y.name))\n",
    "    plt.title(str(y.name) + \" as a function of \" + str(x.name))\n",
    "    \n",
    "    \n",
    "    return plt\n",
    "\n",
    "def get_polynomial_regression(x_in, y_in, degree_of_poly):\n",
    "\n",
    "    x = x_in\n",
    "    y = y_in\n",
    "\n",
    "    z = np.polyfit(x, y, degree_of_poly)\n",
    "    f = np.poly1d(z) # fit_fn is now a function which takes in x and returns an estimate for y\n",
    "    x_new = np.linspace(x[0], x[-1], len(x))\n",
    "    y_new = f(x_new)\n",
    "    \n",
    "    return(x_new, y_new, f, z)\n",
    "\n",
    "first_start_date = dt.strptime('2008-01-01', '%Y-%d-%m')\n",
    "first_end_date = dt.strptime('2008-12-31', \"%Y-%m-%d\")\n",
    "\n",
    "x_var_names = list(DF)\n",
    "y_var_names = list(DF)\n",
    "\n",
    "setStart = widgets.DatePicker(description=\"Start Date: \",disabled=False,value=first_start_date)\n",
    "setStop = widgets.DatePicker(description=\"Stop Date: \",disabled=False,value=first_end_date)\n",
    "y_var = widgets.Dropdown(options=y_var_names, value='ETo',description=\"y: \")\n",
    "\n",
    "items = [setStart, setStop, y_var]\n",
    "widgets.HBox(items)\n",
    "\n",
    "def plot_polynomial_regression(setStart, setStop, y_var):\n",
    "    data4plot = DF.loc[setStart:setStop,(y_var, \"num_idx\")]\n",
    "    (x_new, y_new, f, z) = get_polynomial_regression(data4plot[\"num_idx\"], data4plot[y_var], 3)\n",
    "    data4plot[\"y_new\"] = y_new\n",
    "    widgets.HBox(items)\n",
    "    plt.figure(figsize=(19,10))\n",
    "    plt.plot(data4plot[y_var], \"go\", label = y_var)\n",
    "    plt.plot(data4plot[\"y_new\"], 'r', label='fitted line')\n",
    "    plt.legend(prop={'size':12})\n",
    "#   plt.xlabel(str(x.name))\n",
    "    plt.ylabel(y_var)\n",
    "    plt.title(y_var + \" as a function of time\")\n",
    "    plt.show    \n",
    "\n",
    "out = widgets.interactive_output(plot_polynomial_regression, {'setStart': setStart, 'setStop': setStop, 'y_var': y_var})\n",
    "ui = widgets.HBox(items)\n",
    "\n",
    "display(ui, out)\n",
    "\n",
    "# Select a  date 2017 or before"
   ]
  }
 ],
 "metadata": {
  "kernelspec": {
   "display_name": "Python 3",
   "language": "python",
   "name": "python3"
  },
  "language_info": {
   "codemirror_mode": {
    "name": "ipython",
    "version": 3
   },
   "file_extension": ".py",
   "mimetype": "text/x-python",
   "name": "python",
   "nbconvert_exporter": "python",
   "pygments_lexer": "ipython3",
   "version": "3.6.5"
  }
 },
 "nbformat": 4,
 "nbformat_minor": 2
}
